{
 "cells": [
  {
   "cell_type": "code",
   "execution_count": 1,
   "metadata": {},
   "outputs": [],
   "source": [
    "import pandas as pd\n",
    "from sqlalchemy import create_engine\n",
    "import os"
   ]
  },
  {
   "cell_type": "code",
   "execution_count": 2,
   "metadata": {},
   "outputs": [],
   "source": [
    "def get_postgress_data(sql, user, password, col_index=None):\n",
    "    \"\"\"get data from payability posgress. In develop\"\"\"\n",
    "    conection_text = 'postgresql://{}:{}@machine-learning-db.payability.com:5432/ml'.format(\n",
    "    user, password)\n",
    "    engine = create_engine(conection_text)\n",
    "    data = pd.read_sql_query(\n",
    "        sql, engine, index_col=col_index, parse_dates=True)\n",
    "    # close connection\n",
    "    engine.dispose()\n",
    "\n",
    "    return(data)"
   ]
  },
  {
   "cell_type": "code",
   "execution_count": 3,
   "metadata": {},
   "outputs": [],
   "source": [
    "user_ml = os.environ.get('ml_user')\n",
    "password_ml = os.environ.get('ml_psw')"
   ]
  },
  {
   "cell_type": "code",
   "execution_count": 4,
   "metadata": {},
   "outputs": [],
   "source": [
    "sql = \"\"\"\n",
    "select *\n",
    "from rfm_scores\n",
    "\"\"\"\n",
    "\n",
    "df = get_postgress_data(user=user_ml, password=password_ml, sql=sql)"
   ]
  },
  {
   "cell_type": "code",
   "execution_count": 5,
   "metadata": {},
   "outputs": [],
   "source": [
    "df.to_pickle('rmf_data_pickle')"
   ]
  },
  {
   "cell_type": "code",
   "execution_count": null,
   "metadata": {},
   "outputs": [],
   "source": []
  }
 ],
 "metadata": {
  "kernelspec": {
   "display_name": "Python 3",
   "language": "python",
   "name": "python3"
  },
  "language_info": {
   "codemirror_mode": {
    "name": "ipython",
    "version": 3
   },
   "file_extension": ".py",
   "mimetype": "text/x-python",
   "name": "python",
   "nbconvert_exporter": "python",
   "pygments_lexer": "ipython3",
   "version": "3.7.2"
  }
 },
 "nbformat": 4,
 "nbformat_minor": 2
}
